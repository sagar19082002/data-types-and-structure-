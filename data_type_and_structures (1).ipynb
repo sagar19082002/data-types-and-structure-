{
  "nbformat": 4,
  "nbformat_minor": 0,
  "metadata": {
    "colab": {
      "provenance": []
    },
    "kernelspec": {
      "name": "python3",
      "display_name": "Python 3"
    },
    "language_info": {
      "name": "python"
    }
  },
  "cells": [
    {
      "cell_type": "code",
      "execution_count": null,
      "metadata": {
        "id": "GfOkWT5nwKqZ"
      },
      "outputs": [],
      "source": []
    },
    {
      "cell_type": "markdown",
      "source": [
        "### Question 1. What are data structures and why are they important?\n",
        "    \n",
        "  **Answer**\n",
        "  \n",
        "  :Data structures are ways to organize, store and manage data so that it can be used efficiently.\n",
        "\n",
        "  **Importance**\n",
        "\n",
        "\n",
        "*  Effieciency\n",
        "*   Better problem solving\n",
        "*   Foundations of algorithms\n",
        "*   Real world applications\n",
        "\n",
        "\n",
        "\n",
        "\n",
        "\n"
      ],
      "metadata": {
        "id": "ApuyAZHJwiQj"
      }
    },
    {
      "cell_type": "markdown",
      "source": [
        "### Question 2. Explain the difference between mutable and immutable data types with example.\n",
        "**Answer**\n",
        "- **Mutable data type** can be changed after creation, it can be modified, and the elements can be added or deleted\n",
        "- **Immutable data type** cannot be changed once they are created.\n",
        "\n",
        "- **Mutable**\n",
        "'list', 'dict', 'set'\n",
        "'''phython\n",
        "my_list = [1,2,3]\n",
        "my_list.append(4) # Now my_list becomes [1,2, 3,4]\n",
        "\n",
        "- **Immutable**\n",
        "'str', 'tuple', 'int','float'\n",
        "'''phython\n",
        "my_str = \"Hey\"\n",
        "my_str[0] = \"h\" # This will cause an error\n"
      ],
      "metadata": {
        "id": "hakY9iESzgs-"
      }
    },
    {
      "cell_type": "markdown",
      "source": [
        "### Question 3. What are the main difference between lists and tuple in phython?\n",
        "**Answer**\n",
        "- **List** is a mutable data type, it can be changed and the elements can be added or removed after it is created.\n",
        "- **Tuple** is an immtable data type, it cannot be changed and the elements cannot be modified once created.\n",
        "**Examples**\n",
        "- **List**\n",
        "'''phython\n",
        "my_list = [10, 20, 30]\n",
        "my_list.append(40)\n",
        "print(my_list) #output: [10, 20, 30,40]\n",
        "- **Tuple**\n",
        "'''phython\n",
        "my_tuple = (10,20,30,40)\n",
        "my_tuple[0] = 50, this will raise an error"
      ],
      "metadata": {
        "id": "-z0ofZ5_zexG"
      }
    },
    {
      "cell_type": "markdown",
      "source": [
        "### Question 4. Describe how dictionaries store data\n",
        "**Answer**\n",
        "\n",
        ":A dictionary is a data structure that stores key-value pairs. You access the values using the keys, like:\n",
        "\n",
        "my_dict = {\n",
        "    \"name\": \"Alice\",\n",
        "    \"age\": 30,\n",
        "    \"city\": \"New York\"\n",
        "}\n",
        "\n"
      ],
      "metadata": {
        "id": "S3XOPO8VyCBX"
      }
    },
    {
      "cell_type": "markdown",
      "source": [
        " ### Question 5. Why might you use set instead of list in phython?\n",
        " **Answer**\n",
        " 1. You need unique elements\n",
        "Sets automatically remove duplicates.\n",
        "my_list = [1, 2, 2, 3]\n",
        "my_set = set(my_list)  # {1, 2, 3}\n",
        "With lists, you'd have to do the deduplication manually.\n",
        "\n",
        "2. You care about fast membership checks\n",
        "Sets use hashing, so checking if an item is in a set is usually O(1) time.\n",
        "\n",
        "Lists require a full scan in the worst case — O(n) time.\n",
        "\n",
        "- Fast in a set\n",
        "\"apple\" in {\"apple\", \"banana\", \"cherry\"}  # True\n",
        "\n",
        "- Slower in a list\n",
        "\"apple\" in [\"apple\", \"banana\", \"cherry\"]  # Also True, but slower for big lists\n",
        "\n",
        "3. You need set operations\n",
        "Sets make it super easy to do things like:\n",
        "\n",
        "Unions (set1 | set2)\n",
        "\n",
        "Intersections (set1 & set2)\n",
        "\n",
        "Differences (set1 - set2)\n",
        "\n",
        "python\n",
        "a = {1, 2, 3}\n",
        "b = {3, 4, 5}\n",
        "\n",
        "print(a & b)  # {3} - intersection\n",
        "\n",
        "\n"
      ],
      "metadata": {
        "id": "YmR-89dzOzoP"
      }
    },
    {
      "cell_type": "markdown",
      "source": [
        "### Question 6: What is string in phython and how is it different from list?\n",
        "**Answer**\n",
        "\n",
        ":A string is a sequence of characters, like letters, numbers, symbols, or even spaces. It’s used to represent text.\n",
        "It’s essentially a list of characters under the hood, but it behaves differently from a regular list.\n",
        "\n",
        "my_string = \"hello world\"\n",
        "\n",
        "A list is a sequence too—but it can hold any type of data: strings, numbers, booleans, even other lists.\n",
        "Lists are flexible and mutable\n",
        "\n",
        "my_list = [\"hello\", 42, True, [1, 2, 3]]\n",
        "\n",
        "Feature            | String                      | List\n",
        "-------------------|-----------------------------|-----------------------------\n",
        "Data Type          | Only characters (text)      | Any data types\n",
        "Mutable?           | No (immutable)              | Yes (mutable)\n",
        "Enclosed By        | Quotes (\"...\" or '...')     | Square brackets ([...])\n",
        "Can Slice?         | Yes                         | Yes\n",
        "Can Modify?        | No (must create new one)    | Yes (change in place)\n",
        "Use Case           | Text manipulation           | General-purpose sequences\n",
        "\n",
        "\n"
      ],
      "metadata": {
        "id": "5ekSUPnTRj76"
      }
    },
    {
      "cell_type": "markdown",
      "source": [
        "###Question7: How do tuples ensure data integrity in Python?\n",
        "\n",
        "**Answer**\n",
        "\n",
        "A tuple is an ordered, immutable collection of elements. Once a tuple is created, its contents cannot be changed. This immutability helps ensure data integrity by preventing accidental modifications.\n",
        "\n",
        "person = (\"Alice\", 30, \"Engineer\")\n",
        "This tuple cannot be changed after it is created. If someone tries to update the age\n",
        "\n",
        "person[1] = 31  #This will raise a TypeError\n",
        "\n",
        "Because tuples can't be changed, they are often used when you want to protect data from being altered—especially when passing data between functions or using it as a constant record.\n",
        "\n",
        "\n",
        "\n"
      ],
      "metadata": {
        "id": "J1Z7vUD3V33b"
      }
    },
    {
      "cell_type": "markdown",
      "source": [
        "###Question 8. What is a hash table, and how does it relate to dictionaries in Python?\n",
        "**Answer**\n",
        "\n",
        "A hash table is a data structure that maps keys to values using a hash function. It computes a hash (a fixed-size integer) from a key, which determines where to store or retrieve the value in memory.\n",
        "\n",
        "In Python, the dictionary (dict) is implemented using a hash table. This allows Python dictionaries to provide average-case O(1) time complexity for lookups, insertions, and deletions.\n",
        "\n",
        "Example:\n",
        "\n",
        "'''python\n",
        "\n",
        "my_dict = {\"name\": \"Alice\", \"age\": 30}\n",
        "\n",
        "Here, \"name\" and \"age\" are keys that are hashed to store or access their respective values. The use of a hash table allows dictionaries to be extremely fast and efficient for retrieving data based on keys.\n",
        "\n"
      ],
      "metadata": {
        "id": "YJPAio8nX-SN"
      }
    },
    {
      "cell_type": "markdown",
      "source": [
        "###Question9 Can lists contain different data types in Python?\n",
        "**answer**\n",
        "\n",
        "Yes, Python lists can contain multiple data types. Unlike some other programming languages, Python lists are dynamic and allow mixing of types within the same list.\n",
        "\n",
        "Example:\n",
        "\n",
        "'''python\n",
        "\n",
        "mixed_list = [42, \"hello\", 3.14, True, [1, 2, 3]]\n",
        "This list contains:\n",
        "\n",
        "An integer (42)\n",
        "\n",
        "A string (\"hello\")\n",
        "\n",
        "A float (3.14)\n",
        "\n",
        "A boolean (True)\n",
        "\n",
        "Another list ([1, 2, 3])\n",
        "\n"
      ],
      "metadata": {
        "id": "CeQN5oBEYD0S"
      }
    },
    {
      "cell_type": "code",
      "source": [],
      "metadata": {
        "id": "RrDbzLVGkDVc"
      },
      "execution_count": null,
      "outputs": []
    },
    {
      "cell_type": "markdown",
      "source": [
        "###question10 Explain why strings are immutable in Python.\n",
        "\n",
        "**answer**\n",
        "\n",
        "Strings in Python are immutable, meaning their content cannot be changed after they are created. If you try to modify a character in a string, you’ll get a TypeError.\n",
        "\n",
        "'''python\n",
        "\n",
        "text = \"hello\"\n",
        "text[0] = \"H\"  #This will raise an error\n",
        "\n",
        "Why are they immutable?\n",
        "\n",
        "Performance: Immutable objects are faster and easier to optimize internally by the Python interpreter.\n",
        "\n",
        "Security: Immutability prevents accidental or malicious modifications, which is crucial for objects used as keys in dictionaries or elements in sets.\n",
        "\n",
        "Hashability: Only immutable types can be used as keys in dictionaries, and strings are frequently used in that way"
      ],
      "metadata": {
        "id": "P5EdtvLnYQuM"
      }
    },
    {
      "cell_type": "markdown",
      "source": [
        "###11. What advantages do dictionaries offer over lists for certain tasks?\n",
        "\n",
        "Dictionaries offer several key advantages over lists, especially when dealing with structured or labeled data:\n",
        "\n",
        " **Key Advantages**:\n",
        "\n",
        "Fast Lookup: Dictionaries provide average-case O(1) access time for retrieving values by key, while lists require O(n) time for searching through elements.\n",
        "\n",
        "Descriptive Keys: Instead of relying on index positions like in lists, dictionaries use meaningful keys (e.g., \"name\" instead of index 0), which makes code more readable.\n",
        "\n",
        "Efficient for Mappings: Ideal for storing key-value pairs, such as user records, configurations, or grouped data.\n",
        "\n",
        "No Need for Order: Unlike lists, dictionaries don’t require elements to be in a specific sequence, which simplifies organization in many cases.\n",
        "\n",
        "Example:\n",
        "\n",
        "python\n",
        "\n",
        "user_list = [\"Alice\", 30, \"Engineer\"]\n",
        "user_dict = {\"name\": \"Alice\", \"age\": 30, \"profession\": \"Engineer\"}\n",
        "In the dictionary, it's clear what each piece of data represents, while the list relies on position.\n",
        "\n"
      ],
      "metadata": {
        "id": "Oh0e5LKsYRxb"
      }
    },
    {
      "cell_type": "markdown",
      "source": [
        "###12.Describe a scenario where using a tuple would be preferable over a list.\n",
        "A tuple is preferable when:\n",
        "\n",
        "- The data should not be changed after creation.\n",
        "\n",
        "- The collection is used as a dictionary key or stored in a set (because tuples are hashable).\n",
        "\n",
        "- You're returning multiple values from a function that don't need to be modified.\n",
        "\n",
        "Example Scenario:\n",
        "Returning coordinates or a function result:\n",
        "\n",
        "python\n",
        "\n",
        "def get_location():\n",
        "    return (40.7128, -74.0060)  # Latitude and Longitude\n",
        "    \n",
        "Using a tuple makes sense here because coordinates are fixed and should not be accidentally altered.\n",
        "\n",
        "Another scenario:\n",
        "\n",
        "python\n",
        "\n",
        "my_dict = {(\"Alice\", 30): \"Engineer\"}  # Using a tuple as a key\n",
        "You couldn't use a list here because lists are mutable and unhashable.\n",
        "\n"
      ],
      "metadata": {
        "id": "2DojB0YdYdU_"
      }
    },
    {
      "cell_type": "markdown",
      "source": [
        "###13. How do sets handle duplicate values in Python?\n",
        "Sets in Python are unordered collections of unique elements. They automatically remove duplicate values when the set is created or when items are added.\n",
        "\n",
        "Example:\n",
        "\n",
        "python\n",
        "my_set = {1, 2, 2, 3, 4, 4, 5}\n",
        "print(my_set)  # Output: {1, 2, 3, 4, 5}\n",
        "Key Characteristics:\n",
        "Adding an existing value does nothing (it won’t be duplicated).\n",
        "\n",
        "Sets are useful for filtering unique values from lists or other collections.\n",
        "\n",
        "Converting a list to a set:\n",
        "\n",
        "python\n",
        "nums = [1, 2, 2, 3]\n",
        "unique_nums = set(nums)  # {1, 2, 3}\n"
      ],
      "metadata": {
        "id": "qWjhc_UkYio_"
      }
    },
    {
      "cell_type": "markdown",
      "source": [
        "###14. How does the “in” keyword work differently for lists and dictionaries?\n",
        "The in keyword checks for membership but behaves differently for lists and dictionaries:\n",
        "\n",
        "For Lists:\n",
        "Checks if a value exists in the list.\n",
        "\n",
        "python\n",
        "my_list = [1, 2, 3]\n",
        "print(2 in my_list)  # True\n",
        "\n",
        "For Dictionaries:\n",
        "Checks if a key exists in the dictionary—not the value.\n",
        "\n",
        "python\n",
        "my_dict = {\"name\": \"Alice\", \"age\": 30}\n",
        "print(\"name\" in my_dict)  # True\n",
        "print(\"Alice\" in my_dict)  # False (Alice is a value)\n",
        "\n",
        "To check for values in a dictionary:\n",
        "python\n",
        "\"Alice\" in my_dict.values()  # True"
      ],
      "metadata": {
        "id": "5I6j-a_KYnmQ"
      }
    },
    {
      "cell_type": "markdown",
      "source": [
        "###15. Can you modify the elements of a tuple? Explain why or why not.\n",
        "No, you cannot modify the elements of a tuple. Tuples are immutable, which means once they are created, their elements cannot be changed, added, or removed.\n",
        "\n",
        "Example:\n",
        "\n",
        "python\n",
        "my_tuple = (1, 2, 3)\n",
        "my_tuple[0] = 10  # Raises TypeError\n",
        "\n",
        "Why tuples are immutable:\n",
        "They are designed for data integrity and fixed records.\n",
        "\n",
        "Their immutability makes them hashable, allowing them to be used as keys in dictionaries or elements in sets.\n",
        "\n",
        "Immutability also helps prevent bugs that can occur from accidental changes to critical data.\n",
        "\n",
        "\n"
      ],
      "metadata": {
        "id": "wttsG1i9YtWX"
      }
    },
    {
      "cell_type": "markdown",
      "source": [
        "###16. What is a nested dictionary, and give an example of its use case.\n",
        "A nested dictionary is a dictionary where one or more values are themselves dictionaries. This allows for hierarchical or structured data representation.\n",
        "\n",
        "Use Case:\n",
        "Nested dictionaries are ideal when representing complex data such as user profiles, configurations, or organizational structures.\n",
        "\n",
        "Example:\n",
        "python\n",
        "user = {\n",
        "    \"name\": \"Alice\",\n",
        "    \"profile\": {\n",
        "        \"age\": 30,\n",
        "        \"location\": \"New York\",\n",
        "        \"skills\": [\"Python\", \"Data Analysis\"]\n",
        "    }\n",
        "}\n",
        "You can access nested data using multiple keys:\n",
        "\n",
        "python\n",
        "print(user[\"profile\"][\"location\"])  # Output: New York"
      ],
      "metadata": {
        "id": "NhYWsbnOY4E2"
      }
    },
    {
      "cell_type": "markdown",
      "source": [
        "###17. Describe the time complexity of accessing elements in a dictionary.\n",
        "In Python, dictionaries are implemented using hash tables, which provide very efficient access to elements.\n",
        "\n",
        "Time Complexity:\n",
        "Average case: O(1) — Constant time access using a key.\n",
        "\n",
        "Worst case: O(n) — In rare cases with hash collisions.\n",
        "\n",
        "Because of this, dictionaries are one of the most efficient data structures for lookup operations when the key is known.\n"
      ],
      "metadata": {
        "id": "OHPA-RI4aaww"
      }
    },
    {
      "cell_type": "markdown",
      "source": [
        "\n",
        "###18. In what situations are lists preferred over dictionaries?\n",
        "Lists are preferred when:\n",
        "\n",
        "- Order matters — Lists maintain a specific sequence of elements.\n",
        "\n",
        "- You need to store simple collections of items (e.g., numbers, names).\n",
        "\n",
        "- You want to access items by position/index.\n",
        "\n",
        "- The data doesn't need key-value association.\n",
        "\n",
        "Example Use Cases:\n",
        "Iterating over a series of numbers:\n",
        "python\n",
        "scores = [85, 90, 78, 92]\n",
        "\n",
        "Keeping a to-do list:\n",
        "python\n",
        "tasks = [\"Buy groceries\", \"Clean room\", \"Call friend\"]\n",
        "If you don’t need labels or keys, and care about order or duplicates, a list is a better choice than a dictionary"
      ],
      "metadata": {
        "id": "jo-wuaxQa3qk"
      }
    },
    {
      "cell_type": "markdown",
      "source": [
        "###19.Why are dictionaries considered unordered, and how does that affect data retrieval?\n",
        "Historically, dictionaries in Python were unordered, meaning they didn’t maintain the order of elements as inserted. Starting from Python 3.7, dictionaries do preserve insertion order, but conceptually they are still treated as unordered structures.\n",
        "\n",
        "Impact on Retrieval:\n",
        "You access data using keys, not by position.\n",
        "\n",
        "You cannot rely on index-based access like in lists (my_dict[0] is invalid).\n"
      ],
      "metadata": {
        "id": "MNynOOHua-WE"
      }
    },
    {
      "cell_type": "markdown",
      "source": [
        "###20. Explain the difference between a list and a dictionary in terms of data retrieval.\n",
        "List:\n",
        "Access elements using index (numeric position).\n",
        "\n",
        "Syntax: my_list[0]\n",
        "\n",
        "Slower when searching for values (O(n)) if index is unknown.\n",
        "\n",
        "Dictionary:\n",
        "Access elements using keys (labels).\n",
        "\n",
        "Syntax: my_dict[\"key\"]\n",
        "\n",
        "Much faster for lookups (average O(1)).\n",
        "\n",
        "Example Comparison:\n",
        "\n",
        "python\n",
        "List\n",
        "fruits = [\"apple\", \"banana\", \"cherry\"]\n",
        "print(fruits[1])  # Output: banana\n",
        "\n",
        "Dictionary\n",
        "fruit_colors = {\"apple\": \"red\", \"banana\": \"yellow\", \"cherry\": \"red\"}\n",
        "print(fruit_colors[\"banana\"])  # Output: yellow\n",
        "\n",
        "In summary, use lists for ordered collections, and dictionaries for key-value mappings where lookup speed and readability matter."
      ],
      "metadata": {
        "id": "aUW7I-32bOLx"
      }
    },
    {
      "cell_type": "markdown",
      "source": [
        "1. Write a code to create a string with your name and print it."
      ],
      "metadata": {
        "id": "mBn_wuqHlpO9"
      }
    },
    {
      "cell_type": "code",
      "source": [
        "\n",
        "name = \"Sagar\"\n",
        "print (name)\n"
      ],
      "metadata": {
        "colab": {
          "base_uri": "https://localhost:8080/"
        },
        "id": "sxBdzKGFkGcU",
        "outputId": "10bfaf6a-1bc3-4c21-8181-1decca1e58c0"
      },
      "execution_count": null,
      "outputs": [
        {
          "output_type": "stream",
          "name": "stdout",
          "text": [
            "Divya\n"
          ]
        }
      ]
    },
    {
      "cell_type": "markdown",
      "source": [
        "2.  Write a code to find the length of the string \"Hello World\"P"
      ],
      "metadata": {
        "id": "xhuyfu8YlzYQ"
      }
    },
    {
      "cell_type": "code",
      "source": [
        "text = \"Hello World\"\n",
        "print(len(text))\n"
      ],
      "metadata": {
        "colab": {
          "base_uri": "https://localhost:8080/"
        },
        "id": "UtnHTOWvlTCt",
        "outputId": "9528c858-7325-4ed0-fff2-55a450c91f24"
      },
      "execution_count": null,
      "outputs": [
        {
          "output_type": "stream",
          "name": "stdout",
          "text": [
            "11\n"
          ]
        }
      ]
    },
    {
      "cell_type": "markdown",
      "source": [
        "3. Write a code to slice the first 3 characters from the string \"Python Programming\".\n"
      ],
      "metadata": {
        "id": "V7tMcccrmOoF"
      }
    },
    {
      "cell_type": "code",
      "source": [
        "text = \"Python Programming\"\n",
        "sliced = text[:3]\n",
        "print(sliced)\n"
      ],
      "metadata": {
        "colab": {
          "base_uri": "https://localhost:8080/"
        },
        "id": "xRXIh2nLmDSp",
        "outputId": "bcb6724f-1aac-433b-e2a3-ce39de36264e"
      },
      "execution_count": 1,
      "outputs": [
        {
          "output_type": "stream",
          "name": "stdout",
          "text": [
            "Pyt\n"
          ]
        }
      ]
    },
    {
      "cell_type": "markdown",
      "source": [
        "4. Write a code to convert the string \"hello\" to uppercase."
      ],
      "metadata": {
        "id": "etoSdeHmmr5a"
      }
    },
    {
      "cell_type": "code",
      "source": [
        "text = \"hello\"\n",
        "upper_text = text.upper()\n",
        "print(upper_text)\n"
      ],
      "metadata": {
        "colab": {
          "base_uri": "https://localhost:8080/"
        },
        "id": "m-MMB-NDmi9I",
        "outputId": "251210cf-6a63-49e0-8723-29f9c787e079"
      },
      "execution_count": null,
      "outputs": [
        {
          "output_type": "stream",
          "name": "stdout",
          "text": [
            "HELLO\n"
          ]
        }
      ]
    },
    {
      "cell_type": "markdown",
      "source": [
        "5. Write a code to replace the word \"apple\" with \"orange\" in the string \"I like apple\"."
      ],
      "metadata": {
        "id": "8fWPDAPUnF4a"
      }
    },
    {
      "cell_type": "code",
      "source": [
        "sentence = \"I like apple\"\n",
        "new_sentence = sentence.replace(\"apple\", \"orange\")\n",
        "print(new_sentence)\n"
      ],
      "metadata": {
        "colab": {
          "base_uri": "https://localhost:8080/"
        },
        "id": "-QaiqHgvnG51",
        "outputId": "85e8c80f-9793-4bc6-e03b-ea684ef46695"
      },
      "execution_count": null,
      "outputs": [
        {
          "output_type": "stream",
          "name": "stdout",
          "text": [
            "I like orange\n"
          ]
        }
      ]
    },
    {
      "cell_type": "markdown",
      "source": [
        "6. Write a code to create a list with numbers 1 to 5 and print it."
      ],
      "metadata": {
        "id": "IpjnJs18nUEi"
      }
    },
    {
      "cell_type": "code",
      "source": [
        "numbers = [1, 2, 3, 4, 5]\n",
        "print(numbers)\n"
      ],
      "metadata": {
        "colab": {
          "base_uri": "https://localhost:8080/"
        },
        "id": "74PKvJjbm4Dt",
        "outputId": "49321170-6540-4715-9683-a6c83f1f6041"
      },
      "execution_count": null,
      "outputs": [
        {
          "output_type": "stream",
          "name": "stdout",
          "text": [
            "[1, 2, 3, 4, 5]\n"
          ]
        }
      ]
    },
    {
      "cell_type": "markdown",
      "source": [
        "7. Write a code to append the number 10 to the list [1, 2, 3, 4].\n"
      ],
      "metadata": {
        "id": "FAAgs6eunRNr"
      }
    },
    {
      "cell_type": "code",
      "source": [
        "numbers = [1, 2, 3, 4]\n",
        "numbers.append(10)\n",
        "print(numbers)\n"
      ],
      "metadata": {
        "colab": {
          "base_uri": "https://localhost:8080/"
        },
        "id": "vgvDn6HrntL5",
        "outputId": "925301eb-8d5e-47d7-81af-c97cee7027d4"
      },
      "execution_count": null,
      "outputs": [
        {
          "output_type": "stream",
          "name": "stdout",
          "text": [
            "[1, 2, 3, 4, 10]\n"
          ]
        }
      ]
    },
    {
      "cell_type": "markdown",
      "source": [
        "8. Write a code to remove the number 3 from the list [1, 2, 3, 4, 5]."
      ],
      "metadata": {
        "id": "ot-Z19Y6nyl_"
      }
    },
    {
      "cell_type": "code",
      "source": [
        "numbers = [1, 2, 3, 4, 5]\n",
        "numbers.remove(3)\n",
        "print(numbers)\n"
      ],
      "metadata": {
        "colab": {
          "base_uri": "https://localhost:8080/"
        },
        "id": "wB9IjqF3nwrq",
        "outputId": "89adcc20-0cc1-439d-99d3-4e06f780f3fe"
      },
      "execution_count": null,
      "outputs": [
        {
          "output_type": "stream",
          "name": "stdout",
          "text": [
            "[1, 2, 4, 5]\n"
          ]
        }
      ]
    },
    {
      "cell_type": "markdown",
      "source": [
        "9. Write a code to access the second element in the list ['a', 'b', 'c', 'd']."
      ],
      "metadata": {
        "id": "KPQDMV-6oDqC"
      }
    },
    {
      "cell_type": "code",
      "source": [
        "letters = ['a', 'b', 'c', 'd']\n",
        "print(letters[1])\n"
      ],
      "metadata": {
        "colab": {
          "base_uri": "https://localhost:8080/"
        },
        "id": "-rkFw0bEn9xY",
        "outputId": "13be19a4-0cf8-4388-bb34-5b26bf5bc5a0"
      },
      "execution_count": null,
      "outputs": [
        {
          "output_type": "stream",
          "name": "stdout",
          "text": [
            "b\n"
          ]
        }
      ]
    },
    {
      "cell_type": "markdown",
      "source": [
        "10. Write a code to reverse the list [10, 20, 30, 40, 50]."
      ],
      "metadata": {
        "id": "nD1bl_gUoROO"
      }
    },
    {
      "cell_type": "code",
      "source": [
        "numbers = [10, 20, 30, 40, 50]\n",
        "numbers.reverse()\n",
        "print(numbers)\n"
      ],
      "metadata": {
        "colab": {
          "base_uri": "https://localhost:8080/"
        },
        "id": "6Eks0E7qoJSx",
        "outputId": "099de8a9-4d10-47ab-e1ca-0b88caadea11"
      },
      "execution_count": null,
      "outputs": [
        {
          "output_type": "stream",
          "name": "stdout",
          "text": [
            "[50, 40, 30, 20, 10]\n"
          ]
        }
      ]
    },
    {
      "cell_type": "markdown",
      "source": [
        "11. Write a code to create a tuple with the elements 100, 200, 300 and print it\n"
      ],
      "metadata": {
        "id": "dDd2i8j9osFK"
      }
    },
    {
      "cell_type": "code",
      "source": [
        "my_tuple = (100, 200, 300)\n",
        "print(my_tuple)\n"
      ],
      "metadata": {
        "colab": {
          "base_uri": "https://localhost:8080/"
        },
        "id": "1rQ2LYAtoZZq",
        "outputId": "3a8545d2-3865-4b34-b6c8-26cbbeec2bd7"
      },
      "execution_count": null,
      "outputs": [
        {
          "output_type": "stream",
          "name": "stdout",
          "text": [
            "(100, 200, 300)\n"
          ]
        }
      ]
    },
    {
      "cell_type": "markdown",
      "source": [
        "12. Write a code to access the second-to-last element of the tuple ('red', 'green', 'blue', 'yellow')."
      ],
      "metadata": {
        "id": "dkgYx9bxo7EL"
      }
    },
    {
      "cell_type": "code",
      "source": [
        "colors = ('red', 'green', 'blue', 'yellow')\n",
        "print(colors[-2])\n"
      ],
      "metadata": {
        "colab": {
          "base_uri": "https://localhost:8080/"
        },
        "id": "rCUlb5MIozb3",
        "outputId": "877efa05-17de-40ec-be72-b03310a20228"
      },
      "execution_count": null,
      "outputs": [
        {
          "output_type": "stream",
          "name": "stdout",
          "text": [
            "blue\n"
          ]
        }
      ]
    },
    {
      "cell_type": "markdown",
      "source": [
        "13. Write a code to find the minimum number in the tuple (10, 20, 5, 15)."
      ],
      "metadata": {
        "id": "wFmetrmrpIOB"
      }
    },
    {
      "cell_type": "code",
      "source": [
        "numbers = (10, 20, 5, 15)\n",
        "print(min(numbers))\n"
      ],
      "metadata": {
        "colab": {
          "base_uri": "https://localhost:8080/"
        },
        "id": "gz82CzptpG26",
        "outputId": "238c4847-a5c7-4bcf-ad11-1541028ed84b"
      },
      "execution_count": null,
      "outputs": [
        {
          "output_type": "stream",
          "name": "stdout",
          "text": [
            "5\n"
          ]
        }
      ]
    },
    {
      "cell_type": "markdown",
      "source": [
        "14. Write a code to find the index of the element \"cat\" in the tuple ('dog', 'cat', 'rabbit')."
      ],
      "metadata": {
        "id": "JV1yoRlcpe_Z"
      }
    },
    {
      "cell_type": "code",
      "source": [
        "animals = ('dog', 'cat', 'rabbit')\n",
        "print(animals.index(\"cat\"))\n"
      ],
      "metadata": {
        "colab": {
          "base_uri": "https://localhost:8080/"
        },
        "id": "X1ZbXC_-pPlP",
        "outputId": "2161836d-8743-4b83-b5cd-5ce866033014"
      },
      "execution_count": null,
      "outputs": [
        {
          "output_type": "stream",
          "name": "stdout",
          "text": [
            "1\n"
          ]
        }
      ]
    },
    {
      "cell_type": "markdown",
      "source": [
        "15. Write a code to create a tuple containing three different fruits and check if \"kiwi\" is in it."
      ],
      "metadata": {
        "id": "G_8jhMAOpu8q"
      }
    },
    {
      "cell_type": "code",
      "source": [
        "fruits = (\"apple\", \"banana\", \"mango\")\n",
        "print(\"kiwi\" in fruits)\n"
      ],
      "metadata": {
        "colab": {
          "base_uri": "https://localhost:8080/"
        },
        "id": "sNubdCD0p6Yg",
        "outputId": "ec62ffe9-cd1c-40ec-f634-2c70589d9170"
      },
      "execution_count": null,
      "outputs": [
        {
          "output_type": "stream",
          "name": "stdout",
          "text": [
            "False\n"
          ]
        }
      ]
    },
    {
      "cell_type": "markdown",
      "source": [
        "16. Write a code to create a set with the elements 'a', 'b', 'c' and print it."
      ],
      "metadata": {
        "id": "Os8vEkdupvbJ"
      }
    },
    {
      "cell_type": "code",
      "source": [
        "my_set = {'a', 'b', 'c'}\n",
        "print(my_set)\n"
      ],
      "metadata": {
        "colab": {
          "base_uri": "https://localhost:8080/"
        },
        "id": "EJiMlY8rqJUd",
        "outputId": "cabf8f46-2963-4655-ad82-90ceaa9f3465"
      },
      "execution_count": null,
      "outputs": [
        {
          "output_type": "stream",
          "name": "stdout",
          "text": [
            "{'c', 'b', 'a'}\n"
          ]
        }
      ]
    },
    {
      "cell_type": "markdown",
      "source": [
        "17. Write a code to clear all elements from the set {1, 2, 3, 4, 5}."
      ],
      "metadata": {
        "id": "SkJ7W2R2pwuf"
      }
    },
    {
      "cell_type": "code",
      "source": [
        "my_set = {1, 2, 3, 4, 5}\n",
        "my_set.clear()\n",
        "print(my_set)\n"
      ],
      "metadata": {
        "colab": {
          "base_uri": "https://localhost:8080/"
        },
        "id": "U6Nym4SZqS6f",
        "outputId": "f1823492-58e5-47dc-b476-0b0ad4f6910a"
      },
      "execution_count": null,
      "outputs": [
        {
          "output_type": "stream",
          "name": "stdout",
          "text": [
            "set()\n"
          ]
        }
      ]
    },
    {
      "cell_type": "markdown",
      "source": [
        "18. Write a code to remove the element 4 from the set {1, 2, 3, 4}."
      ],
      "metadata": {
        "id": "ZlFOfTBdpw6J"
      }
    },
    {
      "cell_type": "code",
      "source": [
        "my_set = {1, 2, 3, 4}\n",
        "my_set.remove(4)\n",
        "print(my_set)\n"
      ],
      "metadata": {
        "colab": {
          "base_uri": "https://localhost:8080/"
        },
        "id": "XvC2W6SSqf9s",
        "outputId": "2aad051c-90eb-495e-cccc-e440498b6689"
      },
      "execution_count": null,
      "outputs": [
        {
          "output_type": "stream",
          "name": "stdout",
          "text": [
            "{1, 2, 3}\n"
          ]
        }
      ]
    },
    {
      "cell_type": "markdown",
      "source": [
        "19. Write a code to find the union of two sets {1, 2, 3} and {3, 4, 5}."
      ],
      "metadata": {
        "id": "PkpIB7jIpxFp"
      }
    },
    {
      "cell_type": "code",
      "source": [
        "set1 = {1, 2, 3}\n",
        "set2 = {3, 4, 5}\n",
        "union_set = set1.union(set2)\n",
        "print(union_set)\n"
      ],
      "metadata": {
        "colab": {
          "base_uri": "https://localhost:8080/"
        },
        "id": "e7yFGhg7qp5_",
        "outputId": "64511405-2058-48ad-f82e-9ab314760a68"
      },
      "execution_count": null,
      "outputs": [
        {
          "output_type": "stream",
          "name": "stdout",
          "text": [
            "{1, 2, 3, 4, 5}\n"
          ]
        }
      ]
    },
    {
      "cell_type": "markdown",
      "source": [
        "20. Write a code to find the intersection of two sets {1, 2, 3} and {2, 3, 4}."
      ],
      "metadata": {
        "id": "W7Uupk8lq-0d"
      }
    },
    {
      "cell_type": "code",
      "source": [
        "set1 = {1, 2, 3}\n",
        "set2 = {2, 3, 4}\n",
        "intersection_set = set1.intersection(set2)\n",
        "print(intersection_set)\n"
      ],
      "metadata": {
        "colab": {
          "base_uri": "https://localhost:8080/"
        },
        "id": "JKSR9o6lqzTf",
        "outputId": "fb1419cf-9706-43ae-9832-09c0509d12c1"
      },
      "execution_count": null,
      "outputs": [
        {
          "output_type": "stream",
          "name": "stdout",
          "text": [
            "{2, 3}\n"
          ]
        }
      ]
    },
    {
      "cell_type": "markdown",
      "source": [
        "21. Write a code to create a dictionary with the keys \"name\", \"age\", and \"city\", and print it.\n"
      ],
      "metadata": {
        "id": "Uv3HbkdEpxRW"
      }
    },
    {
      "cell_type": "code",
      "source": [
        "person = {\"name\": \"Alice\", \"age\": 30, \"city\": \"Paris\"}\n",
        "print(person)\n"
      ],
      "metadata": {
        "colab": {
          "base_uri": "https://localhost:8080/"
        },
        "id": "Apqa8f1ArpEx",
        "outputId": "eff8c40d-8e49-4c28-f082-6b67c1b37f06"
      },
      "execution_count": null,
      "outputs": [
        {
          "output_type": "stream",
          "name": "stdout",
          "text": [
            "{'name': 'Alice', 'age': 30, 'city': 'Paris'}\n"
          ]
        }
      ]
    },
    {
      "cell_type": "markdown",
      "source": [
        "22. Write a code to add a new key-value pair \"country\": \"USA\" to the dictionary {'name': 'John', 'age': 25}.\n"
      ],
      "metadata": {
        "id": "J9Lgj6qJpxcg"
      }
    },
    {
      "cell_type": "code",
      "source": [
        "person = {'name': 'John', 'age': 25}\n",
        "person[\"country\"] = \"USA\"\n",
        "print(person)\n"
      ],
      "metadata": {
        "colab": {
          "base_uri": "https://localhost:8080/"
        },
        "id": "ezfZzbrir3uu",
        "outputId": "3dd0dda2-8645-45b1-b744-d817ac4be962"
      },
      "execution_count": null,
      "outputs": [
        {
          "output_type": "stream",
          "name": "stdout",
          "text": [
            "{'name': 'John', 'age': 25, 'country': 'USA'}\n"
          ]
        }
      ]
    },
    {
      "cell_type": "markdown",
      "source": [
        "23. Write a code to access the value associated with the key \"name\" in the dictionary {'name': 'Alice', 'age': 30}."
      ],
      "metadata": {
        "id": "kRdnRy4Bpxoe"
      }
    },
    {
      "cell_type": "code",
      "source": [
        "person = {'name': 'Alice', 'age': 30}\n",
        "print(person[\"name\"])\n"
      ],
      "metadata": {
        "colab": {
          "base_uri": "https://localhost:8080/"
        },
        "id": "PO8uzODrtAXE",
        "outputId": "466b5ebd-c914-4e85-8c32-31020d0f8961"
      },
      "execution_count": null,
      "outputs": [
        {
          "output_type": "stream",
          "name": "stdout",
          "text": [
            "Alice\n"
          ]
        }
      ]
    },
    {
      "cell_type": "markdown",
      "source": [
        "24. Write a code to remove the key \"age\" from the dictionary {'name': 'Bob', 'age': 22, 'city': 'New York'}.\n"
      ],
      "metadata": {
        "id": "XPDgFEFnpx0z"
      }
    },
    {
      "cell_type": "code",
      "source": [
        "person = {'name': 'Bob', 'age': 22, 'city': 'New York'}\n",
        "del person[\"age\"]\n",
        "print(person)\n"
      ],
      "metadata": {
        "colab": {
          "base_uri": "https://localhost:8080/"
        },
        "id": "fBdkBJiJpsq4",
        "outputId": "52b213e5-6954-4d7d-c423-11240535284a"
      },
      "execution_count": null,
      "outputs": [
        {
          "output_type": "stream",
          "name": "stdout",
          "text": [
            "{'name': 'Bob', 'city': 'New York'}\n"
          ]
        }
      ]
    },
    {
      "cell_type": "markdown",
      "source": [
        "25. Write a code to check if the key \"city\" exists in the dictionary {'name': 'Alice', 'city': 'Paris'}."
      ],
      "metadata": {
        "id": "-CFojUrttu-x"
      }
    },
    {
      "cell_type": "code",
      "source": [
        "person = {'name': 'Alice', 'city': 'Paris'}\n",
        "print(\"city\" in person)\n"
      ],
      "metadata": {
        "colab": {
          "base_uri": "https://localhost:8080/"
        },
        "id": "L-rsLsMqt6Wk",
        "outputId": "45bf65ab-1ced-4610-9edb-e17f79a4c28f"
      },
      "execution_count": null,
      "outputs": [
        {
          "output_type": "stream",
          "name": "stdout",
          "text": [
            "True\n"
          ]
        }
      ]
    },
    {
      "cell_type": "markdown",
      "source": [
        "26. Write a code to create a list, a tuple, and a dictionary, and print them all."
      ],
      "metadata": {
        "id": "ceKU94yhtvKd"
      }
    },
    {
      "cell_type": "code",
      "source": [
        "my_list = [1, 2, 3]\n",
        "my_tuple = (4, 5, 6)\n",
        "my_dict = {\"a\": 1, \"b\": 2}\n",
        "print(my_list)\n",
        "print(my_tuple)\n",
        "print(my_dict)\n"
      ],
      "metadata": {
        "colab": {
          "base_uri": "https://localhost:8080/"
        },
        "id": "g2m8YZn6uLvP",
        "outputId": "86ab9cae-ae57-4b4f-dfff-af6bbfbf2fcc"
      },
      "execution_count": null,
      "outputs": [
        {
          "output_type": "stream",
          "name": "stdout",
          "text": [
            "[1, 2, 3]\n",
            "(4, 5, 6)\n",
            "{'a': 1, 'b': 2}\n"
          ]
        }
      ]
    },
    {
      "cell_type": "markdown",
      "source": [
        "27. Write a code to create a list of 5 random numbers between 1 and 100, sort it in ascending order, and print the result."
      ],
      "metadata": {
        "id": "SNgdFMpVtvU2"
      }
    },
    {
      "cell_type": "code",
      "source": [
        "import random\n",
        "\n",
        "numbers = random.sample(range(1, 101), 5)\n",
        "numbers.sort()\n",
        "print(numbers)\n"
      ],
      "metadata": {
        "colab": {
          "base_uri": "https://localhost:8080/"
        },
        "id": "M5_Ttki5uK4x",
        "outputId": "d35a14d2-b72e-47e9-b3aa-44730d685246"
      },
      "execution_count": null,
      "outputs": [
        {
          "output_type": "stream",
          "name": "stdout",
          "text": [
            "[14, 31, 50, 81, 82]\n"
          ]
        }
      ]
    },
    {
      "cell_type": "markdown",
      "source": [
        "28. Write a code to create a list with strings and print the element at the third index."
      ],
      "metadata": {
        "id": "9ooawHzPtvew"
      }
    },
    {
      "cell_type": "code",
      "source": [
        "words = [\"apple\", \"banana\", \"cherry\", \"date\", \"elderberry\"]\n",
        "print(words[3])\n"
      ],
      "metadata": {
        "colab": {
          "base_uri": "https://localhost:8080/"
        },
        "id": "7eZYA1EEu2ai",
        "outputId": "f10f285c-d3a8-495f-c6e8-10437fc84803"
      },
      "execution_count": null,
      "outputs": [
        {
          "output_type": "stream",
          "name": "stdout",
          "text": [
            "date\n"
          ]
        }
      ]
    },
    {
      "cell_type": "markdown",
      "source": [
        "29. Write a code to combine two dictionaries into one and print the result.\n",
        "python"
      ],
      "metadata": {
        "id": "OiUkYFOstvo6"
      }
    },
    {
      "cell_type": "code",
      "source": [
        "dict1 = {\"a\": 1, \"b\": 2}\n",
        "dict2 = {\"c\": 3, \"d\": 4}\n",
        "combined = {**dict1, **dict2}\n",
        "print(combined)\n"
      ],
      "metadata": {
        "colab": {
          "base_uri": "https://localhost:8080/"
        },
        "id": "p23_3rWGvDqd",
        "outputId": "29442fe0-af1a-44e8-ae19-94b9016eba99"
      },
      "execution_count": null,
      "outputs": [
        {
          "output_type": "stream",
          "name": "stdout",
          "text": [
            "{'a': 1, 'b': 2, 'c': 3, 'd': 4}\n"
          ]
        }
      ]
    },
    {
      "cell_type": "markdown",
      "source": [
        "30. Write a code to convert a list of strings into a set."
      ],
      "metadata": {
        "id": "u7Js49Gutvyh"
      }
    },
    {
      "cell_type": "code",
      "source": [
        "fruits = [\"apple\", \"banana\", \"apple\", \"cherry\"]\n",
        "fruit_set = set(fruits)\n",
        "print(fruit_set)\n"
      ],
      "metadata": {
        "colab": {
          "base_uri": "https://localhost:8080/"
        },
        "id": "0dHCgDVWto1c",
        "outputId": "63a1badd-9af2-4866-ffb2-71699a9fba2d"
      },
      "execution_count": null,
      "outputs": [
        {
          "output_type": "stream",
          "name": "stdout",
          "text": [
            "{'apple', 'cherry', 'banana'}\n"
          ]
        }
      ]
    },
    {
      "cell_type": "code",
      "source": [],
      "metadata": {
        "id": "7wPTO7ilvWzy"
      },
      "execution_count": null,
      "outputs": []
    }
  ]
}